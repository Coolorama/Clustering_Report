{
 "cells": [
  {
   "cell_type": "markdown",
   "metadata": {},
   "source": [
    "# Clustering Activity"
   ]
  },
  {
   "cell_type": "code",
   "execution_count": 7,
   "metadata": {},
   "outputs": [],
   "source": [
    "# Import necessary libraries\n",
    "from sklearn.datasets import make_blobs\n",
    "from sklearn.cluster import KMeans, AgglomerativeClustering, SpectralClustering\n",
    "from sklearn.metrics import adjusted_rand_score, silhouette_score\n",
    "import numpy as np\n",
    "\n",
    "# Generate a hypothetical dataset\n",
    "X, y_true = make_blobs(n_samples=300, centers=4, random_state=42, cluster_std=1.0)"
   ]
  },
  {
   "cell_type": "markdown",
   "metadata": {},
   "source": [
    "Exercise: Evaluate four clustering algorithms (K-Means, Fuzzy C-Means, Spectral, and Agglomerative)\n",
    "1. Apply each clustering algorithm to the dataset where:\n",
    "- cluster_count = 4\n",
    "- random_state = 42 (where applicable)\n",
    "- do not specify affinity, metric, algo, init, linkage (if applicable)\n",
    "2. Use the **Adjusted Rand index** and **Silhouette Score** to evaluate the clustering performance.\n",
    "3. Compare the performance of the algorithms based on the aforementioned metrics and decide which algorithm is best suited for the data given."
   ]
  },
  {
   "cell_type": "code",
   "execution_count": 8,
   "metadata": {},
   "outputs": [
    {
     "name": "stderr",
     "output_type": "stream",
     "text": [
      "c:\\Users\\chris\\AppData\\Local\\Programs\\Python\\Python311\\Lib\\site-packages\\sklearn\\cluster\\_kmeans.py:1412: FutureWarning: The default value of `n_init` will change from 10 to 'auto' in 1.4. Set the value of `n_init` explicitly to suppress the warning\n",
      "  super()._check_params_vs_input(X, default_n_init=10)\n"
     ]
    },
    {
     "name": "stdout",
     "output_type": "stream",
     "text": [
      "Adjusted Rand Index:\n",
      "KMeans: 0.9911\n",
      "Agglomerative Clustering: 0.9911\n",
      "Spectral Clustering: 0.9911\n",
      "Fuzzy C-Means: 0.9911\n",
      "\n",
      "Silhouette Score:\n",
      "KMeans: 0.7916\n",
      "Agglomerative Clustering: 0.7916\n",
      "Spectral Clustering: 0.7916\n",
      "Fuzzy C-Means: 0.7916\n"
     ]
    }
   ],
   "source": [
    "# Apply KMeans clustering\n",
    "kmeans = KMeans(n_clusters=4, random_state=42)\n",
    "y_kmeans = kmeans.fit_predict(X)\n",
    "ari_kmeans = adjusted_rand_score(y_true, y_kmeans)\n",
    "silhouette_kmeans = silhouette_score(X, y_kmeans)\n",
    "\n",
    "# Apply Agglomerative Clustering\n",
    "agglomerative = AgglomerativeClustering(n_clusters=4)\n",
    "y_agglomerative = agglomerative.fit_predict(X)\n",
    "ari_agglomerative = adjusted_rand_score(y_true, y_agglomerative)\n",
    "silhouette_agglomerative = silhouette_score(X, y_agglomerative)\n",
    "\n",
    "# Apply Spectral Clustering\n",
    "spectral = SpectralClustering(n_clusters=4, random_state=42)\n",
    "y_spectral = spectral.fit_predict(X)\n",
    "ari_spectral = adjusted_rand_score(y_true, y_spectral)\n",
    "silhouette_spectral = silhouette_score(X, y_spectral)\n",
    "\n",
    "# Apply Fuzzy C-Means Clustering\n",
    "fuzzy_cmeans = fuzz.cmeans(X.T, c=4, m=2, error=0.005, maxiter=1000, init=None)\n",
    "y_fuzzy_cmeans = np.argmax(fuzzy_cmeans[1], axis=0)\n",
    "ari_fuzzy_cmeans = adjusted_rand_score(y_true, y_fuzzy_cmeans)\n",
    "silhouette_fuzzy_cmeans = silhouette_score(X, y_fuzzy_cmeans)\n",
    "\n",
    "# Print evaluation metrics for each algorithm\n",
    "print(\"Adjusted Rand Index:\")\n",
    "print(f\"KMeans: {ari_kmeans:.4f}\")\n",
    "print(f\"Agglomerative Clustering: {ari_agglomerative:.4f}\")\n",
    "print(f\"Spectral Clustering: {ari_spectral:.4f}\")\n",
    "print(f\"Fuzzy C-Means: {ari_fuzzy_cmeans:.4f}\")\n",
    "\n",
    "print(\"\\nSilhouette Score:\")\n",
    "print(f\"KMeans: {silhouette_kmeans:.4f}\")\n",
    "print(f\"Agglomerative Clustering: {silhouette_agglomerative:.4f}\")\n",
    "print(f\"Spectral Clustering: {silhouette_spectral:.4f}\")\n",
    "print(f\"Fuzzy C-Means: {silhouette_fuzzy_cmeans:.4f}\")"
   ]
  }
 ],
 "metadata": {
  "kernelspec": {
   "display_name": "Python 3",
   "language": "python",
   "name": "python3"
  },
  "language_info": {
   "codemirror_mode": {
    "name": "ipython",
    "version": 3
   },
   "file_extension": ".py",
   "mimetype": "text/x-python",
   "name": "python",
   "nbconvert_exporter": "python",
   "pygments_lexer": "ipython3",
   "version": "3.11.4"
  }
 },
 "nbformat": 4,
 "nbformat_minor": 2
}
