{
 "cells": [
  {
   "cell_type": "markdown",
   "metadata": {},
   "source": [
    "# Demo File"
   ]
  },
  {
   "cell_type": "markdown",
   "metadata": {},
   "source": [
    "## Data Generation"
   ]
  },
  {
   "cell_type": "markdown",
   "metadata": {},
   "source": [
    "### Definition of Data Generation Functions"
   ]
  },
  {
   "cell_type": "code",
   "execution_count": null,
   "metadata": {},
   "outputs": [],
   "source": [
    "import numpy as np\n",
    "import pandas as pd\n",
    "import matplotlib.pyplot as plt\n",
    "\n",
    "# Function to generate donut-shaped data with an inner cluster\n",
    "def make_donut_data(num_classes=2, num_samples=100, radius_delta=1):\n",
    "    circle_all = np.array([])\n",
    "    \n",
    "    current_radius = radius_delta * num_classes\n",
    "\n",
    "    for i in range(num_classes):\n",
    "        theta = inner_theta = np.random.uniform(0, 2*np.pi, num_samples)\n",
    "\n",
    "        # Donut data\n",
    "        circle_x = current_radius * np.cos(theta)\n",
    "        circle_y = current_radius * np.sin(theta)\n",
    "\n",
    "        circle_indiv = np.array([circle_x, circle_y]).T\n",
    "        circle_all = np.vstack((circle_all, circle_indiv)) if circle_all.size else circle_indiv\n",
    "\n",
    "        current_radius = current_radius - radius_delta\n",
    "\n",
    "        \n",
    "    return circle_all\n",
    "\n",
    "def make_sinusoidal_wave(amplitude=1, frequency=1.5, phase=0, num_samples=100, num_classes=2, y_difference = 2):\n",
    "    # Generating x values\n",
    "    x = np.linspace(0, 4 * np.pi, num_samples)\n",
    "\n",
    "    x_all = np.array([])\n",
    "    y_all = np.array([])\n",
    "    diff = 0\n",
    "\n",
    "    # Calculating the sinusoidal wave\n",
    "    for i in range(num_classes):\n",
    "        x_all = np.concatenate((x_all, [x]), axis=1) if x_all.size else np.array([x])\n",
    "\n",
    "        y_indiv = amplitude * np.sin(frequency * x + phase) + diff\n",
    "        y_all = np.concatenate((y_all, [y_indiv]), axis=1) if y_all.size else np.array([y_indiv])\n",
    "        diff = diff + y_difference\n",
    "\n",
    "    return np.vstack((x_all, y_all)).T\n",
    "\n",
    "def make_pinwheel_data(num_samples=100, num_classes=2, radius=1, stddev=0):\n",
    "    # Generating the data for the pinwheel\n",
    "    angle = np.linspace(0, 2 * np.pi, num_samples)\n",
    "    data = np.zeros((num_samples * num_classes, 2))\n",
    "    for i in range(num_classes):\n",
    "        ix = range(num_samples * i, num_samples * (i + 1))\n",
    "        r = np.linspace(0.0, radius, num_samples) + np.random.normal(0, stddev, num_samples)\n",
    "        data[ix] = np.c_[r * np.cos(angle + i * (2 * np.pi) / num_classes),\n",
    "                         r * np.sin(angle + i * (2 * np.pi) / num_classes)]\n",
    "    return data\n",
    "\n",
    "def make_bar_data(num_samples=100, num_classes=2, x_init = 0.0, y = 0.5, distance_delta = 1):\n",
    "    # Generating points for bars\n",
    "    x = x_init\n",
    "    bar_all = y_all = np.array([])\n",
    "    \n",
    "    for i in range(num_classes):\n",
    "        bar_indiv = np.random.rand(num_samples, 2) * 0.5 + np.array([x, y])\n",
    "        bar_all = np.vstack((bar_all, bar_indiv)) if bar_all.size else bar_indiv\n",
    "        x = x + distance_delta\n",
    "\n",
    "    return bar_all\n",
    "     "
   ]
  },
  {
   "cell_type": "markdown",
   "metadata": {},
   "source": [
    "### Generating the Data"
   ]
  },
  {
   "cell_type": "code",
   "execution_count": null,
   "metadata": {},
   "outputs": [],
   "source": [
    "#define the colors to be used in the plots\n",
    "colors = ['red', 'orange', 'lime', 'green', 'blue', 'navy', 'violet']\n",
    "fig_size = 6\n",
    "\n",
    "# Params of Data Generation\n",
    "samples = 100  # Number of samples per class\n",
    "classes = 4     # Number of classes\n",
    "\n",
    "# X = make_donut_data(num_classes=classes, num_samples=samples)\n",
    "# X = make_sinusoidal_wave(num_samples=samples, num_classes=classes)\n",
    "# X = make_pinwheel_data(num_samples=samples, num_classes=classes, stddev=0)\n",
    "X = make_bar_data(num_samples=samples, num_classes=classes)\n"
   ]
  },
  {
   "cell_type": "markdown",
   "metadata": {},
   "source": [
    "### Making the Data Plot"
   ]
  },
  {
   "cell_type": "code",
   "execution_count": null,
   "metadata": {},
   "outputs": [],
   "source": [
    "fig = plt.figure(figsize = (8,8))\n",
    "\n",
    "plt.scatter(X[:, 0], X[:, 1], marker='.')\n",
    "plt.xlabel('x0')\n",
    "plt.ylabel('x1')\n",
    "plt.title('Generated Data')\n",
    "plt.grid()\n",
    "plt.show()"
   ]
  },
  {
   "cell_type": "markdown",
   "metadata": {},
   "source": [
    "## Clustering Algorithms"
   ]
  },
  {
   "cell_type": "markdown",
   "metadata": {},
   "source": [
    "### K Means Clustering"
   ]
  },
  {
   "cell_type": "code",
   "execution_count": null,
   "metadata": {},
   "outputs": [],
   "source": [
    "from sklearn.cluster import KMeans\n",
    "\n",
    "init_array = ['k-means++', 'random']\n",
    "algo_array = ['lloyd', 'elkan']\n",
    "\n",
    "fig, axs = plt.subplots(len(init_array), len(algo_array), figsize=(fig_size * len(init_array), fig_size * len(algo_array)))\n",
    "\n",
    "for i, init in enumerate(init_array):\n",
    "    for j, algo in enumerate(algo_array):\n",
    "        ax = axs[i, j]\n",
    "\n",
    "        model = KMeans(n_clusters=classes, init=init, algorithm=algo, n_init='auto').fit(X)\n",
    "        targ = model.predict(X)\n",
    "\n",
    "        for idx, cl in enumerate(np.unique(targ)):\n",
    "            ax.scatter(X[targ == cl, 0], X[targ == cl, 1], color=colors[idx], marker='.')\n",
    "\n",
    "        centroids = model.cluster_centers_\n",
    "        ax.scatter(centroids[:, 0], centroids[:, 1], marker='x', s=200, c='black', label='Centroids')\n",
    "        ax.legend()\n",
    "        ax.set_title(f\"init={init} algorithm={algo}\")\n",
    "plt.show()"
   ]
  },
  {
   "cell_type": "markdown",
   "metadata": {},
   "source": [
    "### Fuzzy C-Means Clustering"
   ]
  },
  {
   "cell_type": "code",
   "execution_count": null,
   "metadata": {},
   "outputs": [],
   "source": [
    "from skfuzzy import cmeans, cmeans_predict\n",
    "\n",
    "c_means, u, u0, d, jm, p, fpc = cmeans(data = X.T, c = classes, m = 1.25, error = 0.05, maxiter = 1000)\n",
    "target2 = np.argmax(u, axis=0)\n",
    "\n",
    "for idx, cl in enumerate(np.unique(target2)):\n",
    "    plt.scatter(X[target2 == cl, 0], X[target2 == cl, 1], color=colors[idx], marker='.')\n",
    "    \n",
    "plt.scatter(c_means[:, 0], c_means[:, 1], marker='x', s=200, c='black', label='Centroids')\n",
    "plt.legend()\n",
    "plt.title(\"Fuzzy C-Means Clustering\")\n",
    "print(pd.DataFrame(u.T))"
   ]
  },
  {
   "cell_type": "markdown",
   "metadata": {},
   "source": [
    "### Spectral Clustering"
   ]
  },
  {
   "cell_type": "code",
   "execution_count": null,
   "metadata": {},
   "outputs": [],
   "source": [
    "from sklearn.cluster import SpectralClustering\n",
    "\n",
    "aff_array = ['nearest_neighbors', 'rbf', 'poly', \n",
    "                'polynomial', 'laplacian', 'sigmoid']\n",
    "# you can use these kernels for affinity but they dont always work\n",
    "# ['additive_chi2', 'chi2', 'linear', 'cosine']\n",
    "\n",
    "fig, axs = plt.subplots(3, 2, figsize=(8, 12))\n",
    "\n",
    "for i, aff in enumerate(aff_array):\n",
    "    m = int(i / (len(aff_array) / 2))\n",
    "    n = int(i % (len(aff_array) / 2))\n",
    "    ax = axs[n, m]\n",
    "\n",
    "    targ = SpectralClustering(n_clusters=classes, affinity=aff, gamma=0.5).fit_predict(X)\n",
    "\n",
    "    for idx, cl in enumerate(np.unique(targ)):\n",
    "        ax.scatter(X[targ == cl, 0], X[targ == cl, 1], color=colors[idx], marker='.')\n",
    "        ax.set_title(f\"affinity={aff}\")\n",
    "plt.show()"
   ]
  },
  {
   "cell_type": "markdown",
   "metadata": {},
   "source": [
    "### Agglomerative Clustering"
   ]
  },
  {
   "cell_type": "code",
   "execution_count": null,
   "metadata": {},
   "outputs": [],
   "source": [
    "from sklearn.cluster import AgglomerativeClustering\n",
    "from scipy.cluster.hierarchy import dendrogram\n",
    "\n",
    "def plot_dendrogram(model, **kwargs):\n",
    "    # Create linkage matrix and then plot the dendrogram\n",
    "\n",
    "    # create the counts of samples under each node\n",
    "    counts = np.zeros(model.children_.shape[0])\n",
    "    n_samples = len(model.labels_)\n",
    "    for i, merge in enumerate(model.children_):\n",
    "        current_count = 0\n",
    "        for child_idx in merge:\n",
    "            if child_idx < n_samples:\n",
    "                current_count += 1  # leaf node\n",
    "            else:\n",
    "                current_count += counts[child_idx - n_samples]\n",
    "        counts[i] = current_count\n",
    "\n",
    "    linkage_matrix = np.column_stack(\n",
    "        [model.children_, model.distances_, counts]\n",
    "    ).astype(float)\n",
    "\n",
    "    # Plot the corresponding dendrogram\n",
    "    dendrogram(linkage_matrix, **kwargs)\n",
    "\n",
    "def plot_data(model, lin, met, ax):\n",
    "    model.set_params(n_clusters=classes, distance_threshold=None)\n",
    "    targ = model.fit_predict(X)\n",
    "    for idx, cl in enumerate(np.unique(targ)):\n",
    "        ax.scatter(X[targ == cl, 0], X[targ == cl, 1], color=colors[idx], marker='.')\n",
    "        ax.set_title(f\"linkage={lin} metric={met} Plot\")\n",
    "\n",
    "met_array = ['cityblock', 'l1', 'l2', 'manhattan', 'euclidean']\n",
    "lin_array = ['complete', 'average', 'single'] # 'ward' only works on euclidian thus it is appended only in the end\n",
    "\n",
    "fig, axs = plt.subplots(len(lin_array) * len(met_array) + 1, 2, figsize=(fig_size * 2, fig_size * len(lin_array) * len(met_array) + 1))\n",
    "\n",
    "m = 0\n",
    "for i, met in enumerate(met_array):\n",
    "    if(met == 'euclidean'):\n",
    "        lin_array.append('ward')\n",
    "    for j, lin in enumerate(lin_array):\n",
    "        model = AgglomerativeClustering(distance_threshold=0, n_clusters=None, linkage=lin, metric=met)\n",
    "        model = model.fit(X)\n",
    "\n",
    "        plot_dendrogram(model, truncate_mode=\"level\", p=3, ax=axs[m, 0])\n",
    "        plot_data(model, lin, met, ax=axs[m, 1])\n",
    "        m = m + 1\n",
    "\n",
    "plt.show()"
   ]
  },
  {
   "cell_type": "markdown",
   "metadata": {},
   "source": [
    "## References"
   ]
  }
 ],
 "metadata": {
  "kernelspec": {
   "display_name": "Python 3",
   "language": "python",
   "name": "python3"
  },
  "language_info": {
   "codemirror_mode": {
    "name": "ipython",
    "version": 3
   },
   "file_extension": ".py",
   "mimetype": "text/x-python",
   "name": "python",
   "nbconvert_exporter": "python",
   "pygments_lexer": "ipython3",
   "version": "3.11.4"
  }
 },
 "nbformat": 4,
 "nbformat_minor": 2
}
